{
  "nbformat": 4,
  "nbformat_minor": 0,
  "metadata": {
    "colab": {
      "name": "Preprocessing Data.ipynb",
      "provenance": [],
      "collapsed_sections": []
    },
    "kernelspec": {
      "name": "python3",
      "display_name": "Python 3"
    },
    "language_info": {
      "name": "python"
    }
  },
  "cells": [
    {
      "cell_type": "code",
      "execution_count": 1,
      "metadata": {
        "id": "JASgzXA962bp"
      },
      "outputs": [],
      "source": [
        "import numpy as np\n",
        "import matplotlib.pyplot as plt\n",
        "import pandas as pd"
      ]
    },
    {
      "cell_type": "markdown",
      "source": [
        "Numpy merupakan library python digunakan untuk komputasi matrik. Matplotlib merupakan library python untuk presentasi data berupa grafik atau plot.\n",
        "\n"
      ],
      "metadata": {
        "id": "-sKbA0bD7Lht"
      }
    },
    {
      "cell_type": "code",
      "source": [
        "dataset = pd.read_csv('data-jumlah-pelayanan-kesehatan-hewan-bulan-oktober-tahun-2021.csv')\n",
        "x = dataset.iloc[:, :-1].values\n",
        "y = dataset.iloc[:, -1].values"
      ],
      "metadata": {
        "id": "Euc2LjqN7MV2"
      },
      "execution_count": 2,
      "outputs": []
    },
    {
      "cell_type": "code",
      "source": [
        "print(x)"
      ],
      "metadata": {
        "colab": {
          "base_uri": "https://localhost:8080/"
        },
        "id": "Q3Vsgvuy7ZiL",
        "outputId": "25ee8775-ea31-48bd-a462-bfb70a40b1b0"
      },
      "execution_count": 3,
      "outputs": [
        {
          "output_type": "stream",
          "name": "stdout",
          "text": [
            "[[1 'Anjing' 'Abortus' nan]\n",
            " [2 'Anjing' 'Abses' '1']\n",
            " [3 'Anjing' 'Acral Lick Dermatitis' '0']\n",
            " ...\n",
            " [1022 'Sapi potong' 'Urethritis' '0']\n",
            " [1023 'Sapi potong' 'Uveitis' '0']\n",
            " [1024 'Sapi potong' 'Vulnus' '0']]\n"
          ]
        }
      ]
    },
    {
      "cell_type": "code",
      "source": [
        "print(y)"
      ],
      "metadata": {
        "colab": {
          "base_uri": "https://localhost:8080/"
        },
        "id": "oSfNLBs87oS6",
        "outputId": "0863af21-c8dc-4a0e-8d85-f9b629075a59"
      },
      "execution_count": 4,
      "outputs": [
        {
          "output_type": "stream",
          "name": "stdout",
          "text": [
            "['Vetoxy La. Vetadryl. Sulpidone. Hematodin'\n",
            " 'Cefotaxime.Dexamethason.Biosolamin.Septo Skin Spray'\n",
            " 'Bethamox. Vitol Ade. Vetadryl' ... 'PenStrep. Carosil'\n",
            " 'Limoxin . Dexa . Hematopan Biodin'\n",
            " 'Cefotaxime.Roborante.Dexamethason.Biosolamin. Enrofloxacin']\n"
          ]
        }
      ]
    },
    {
      "cell_type": "code",
      "source": [
        "from sklearn.impute import SimpleImputer\n",
        "imputer = SimpleImputer(missing_values=np.nan, strategy='mean')\n",
        "imputer.fit(x[:, 1:3])\n",
        "x[:, 1:3] = imputer.transform(x[:, 1:3])"
      ],
      "metadata": {
        "id": "DEbaVRA_7tKz"
      },
      "execution_count": null,
      "outputs": []
    },
    {
      "cell_type": "code",
      "source": [
        "print(x)"
      ],
      "metadata": {
        "colab": {
          "base_uri": "https://localhost:8080/"
        },
        "id": "iFQyzxZJ7uKW",
        "outputId": "6986107b-6dc2-4678-9a3c-3dc68687c2c9"
      },
      "execution_count": 5,
      "outputs": [
        {
          "output_type": "stream",
          "name": "stdout",
          "text": [
            "[[1 'Anjing' 'Abortus' nan]\n",
            " [2 'Anjing' 'Abses' '1']\n",
            " [3 'Anjing' 'Acral Lick Dermatitis' '0']\n",
            " ...\n",
            " [1022 'Sapi potong' 'Urethritis' '0']\n",
            " [1023 'Sapi potong' 'Uveitis' '0']\n",
            " [1024 'Sapi potong' 'Vulnus' '0']]\n"
          ]
        }
      ]
    },
    {
      "cell_type": "code",
      "source": [
        "from sklearn.compose import ColumnTransformer\n",
        "from sklearn.preprocessing import OneHotEncoder\n",
        "ct = ColumnTransformer(transformers=[('encoder', OneHotEncoder(), [0])],remainder='passthrough')\n",
        "x = np.array(ct.fit_transform(x))"
      ],
      "metadata": {
        "id": "z_fueaql8J5N"
      },
      "execution_count": null,
      "outputs": []
    },
    {
      "cell_type": "code",
      "source": [
        "print(x)"
      ],
      "metadata": {
        "colab": {
          "base_uri": "https://localhost:8080/"
        },
        "id": "GEZZnXK49zXQ",
        "outputId": "dfd4dbd8-f107-47f5-c729-2e20d15f3d60"
      },
      "execution_count": 10,
      "outputs": [
        {
          "output_type": "stream",
          "name": "stdout",
          "text": [
            "[[1 'Anjing' 'Abortus' nan]\n",
            " [2 'Anjing' 'Abses' '1']\n",
            " [3 'Anjing' 'Acral Lick Dermatitis' '0']\n",
            " ...\n",
            " [1022 'Sapi potong' 'Urethritis' '0']\n",
            " [1023 'Sapi potong' 'Uveitis' '0']\n",
            " [1024 'Sapi potong' 'Vulnus' '0']]\n"
          ]
        }
      ]
    }
  ]
}